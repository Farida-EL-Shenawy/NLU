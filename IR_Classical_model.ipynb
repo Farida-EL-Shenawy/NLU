{
  "nbformat": 4,
  "nbformat_minor": 0,
  "metadata": {
    "colab": {
      "provenance": []
    },
    "kernelspec": {
      "name": "python3",
      "display_name": "Python 3"
    },
    "language_info": {
      "name": "python"
    }
  },
  "cells": [
    {
      "cell_type": "code",
      "execution_count": 23,
      "metadata": {
        "id": "8_Iqi6Sy6Wp6"
      },
      "outputs": [],
      "source": [
        "# Install Hugging Face datasets library and rank_bm25\n",
        "!pip install datasets rank_bm25 --quiet"
      ]
    },
    {
      "cell_type": "markdown",
      "source": [
        "# **Import the necessary libraries**"
      ],
      "metadata": {
        "id": "2ilix_42iyAK"
      }
    },
    {
      "cell_type": "code",
      "source": [
        "# Import libraries\n",
        "from datasets import load_dataset\n",
        "from rank_bm25 import BM25Okapi\n",
        "import pandas as pd"
      ],
      "metadata": {
        "id": "IVfeyCYEACmU"
      },
      "execution_count": 24,
      "outputs": []
    },
    {
      "cell_type": "markdown",
      "source": [
        "# **load quora dataset for IR**"
      ],
      "metadata": {
        "id": "t0c5k-bvi_pJ"
      }
    },
    {
      "cell_type": "code",
      "source": [
        "# Load a small dataset from Hugging Face\n",
        "dataset = load_dataset(\"quora\", split=\"train[:1000]\")  # only first 1000 examples\n",
        "\n",
        "# Let's look at one sample\n",
        "print(dataset[0])"
      ],
      "metadata": {
        "colab": {
          "base_uri": "https://localhost:8080/"
        },
        "id": "POu9QAHDi2K3",
        "outputId": "8f58b331-3054-481b-c45b-f4365cc0e6ba"
      },
      "execution_count": 25,
      "outputs": [
        {
          "output_type": "stream",
          "name": "stdout",
          "text": [
            "{'questions': {'id': [1, 2], 'text': ['What is the step by step guide to invest in share market in india?', 'What is the step by step guide to invest in share market?']}, 'is_duplicate': False}\n"
          ]
        }
      ]
    },
    {
      "cell_type": "markdown",
      "source": [
        "# **Prepare the corpus and queries.**"
      ],
      "metadata": {
        "id": "fvGU9b_ij3a3"
      }
    },
    {
      "cell_type": "code",
      "source": [
        "# Build the corpus and queries\n",
        "corpus = []\n",
        "queries = []\n",
        "\n",
        "for example in dataset:\n",
        "    question1 = example['questions']['text'][0]\n",
        "    question2 = example['questions']['text'][1]\n",
        "\n",
        "    corpus.append(question1)\n",
        "    queries.append(question2)  # We will pretend we want to retrieve question1 given question2"
      ],
      "metadata": {
        "id": "xwl3tfzbjIHH"
      },
      "execution_count": 26,
      "outputs": []
    },
    {
      "cell_type": "markdown",
      "source": [
        "# **build our BM25 model iver the corpus**"
      ],
      "metadata": {
        "id": "fWBJlN8Oj9Pc"
      }
    },
    {
      "cell_type": "code",
      "source": [
        "# Tokenize the corpus for BM25\n",
        "tokenized_corpus = [doc.split() for doc in corpus]\n",
        "\n",
        "# Build the BM25 index\n",
        "bm25 = BM25Okapi(tokenized_corpus)"
      ],
      "metadata": {
        "id": "ceeHlU3gj8Zf"
      },
      "execution_count": 27,
      "outputs": []
    },
    {
      "cell_type": "markdown",
      "source": [
        "# **Retrieve top 3 documents for the first query**"
      ],
      "metadata": {
        "id": "g_eyAr7BkvpO"
      }
    },
    {
      "cell_type": "code",
      "source": [
        "query = queries[0]\n",
        "tokenized_query = query.split()\n",
        "\n",
        "# Get BM25 scores for all documents\n",
        "doc_scores = bm25.get_scores(tokenized_query)\n",
        "\n",
        "# Rank documents by score (highest first)\n",
        "top_n = 3\n",
        "top_n_indices = sorted(range(len(doc_scores)), key=lambda i: doc_scores[i], reverse=True)[:top_n]\n",
        "\n",
        "# Show results\n",
        "print(f\"Query:\\n{query}\\n\")\n",
        "print(\"Top documents:\")\n",
        "for idx in top_n_indices:\n",
        "    print(f\"Score: {doc_scores[idx]:.2f} | Document: {corpus[idx]}\")\n"
      ],
      "metadata": {
        "colab": {
          "base_uri": "https://localhost:8080/"
        },
        "id": "tXHuJpAtkLur",
        "outputId": "68040263-89e9-41e7-dbfb-65aca29e9c46"
      },
      "execution_count": 33,
      "outputs": [
        {
          "output_type": "stream",
          "name": "stdout",
          "text": [
            "Query:\n",
            "What is the step by step guide to invest in share market?\n",
            "\n",
            "Top documents:\n",
            "Score: 40.76 | Document: What is the step by step guide to invest in share market in india?\n",
            "Score: 9.68 | Document: What is the best way to invest in oil and natural gas?\n",
            "Score: 9.32 | Document: What stocks are the best to invest in right now?\n"
          ]
        }
      ]
    },
    {
      "cell_type": "code",
      "source": [
        "# Make a simple search function\n",
        "\n",
        "def search(query, bm25_model, corpus, top_n=3):\n",
        "    tokenized_query = query.split()\n",
        "    doc_scores = bm25_model.get_scores(tokenized_query)\n",
        "    top_n_indices = sorted(range(len(doc_scores)), key=lambda i: doc_scores[i], reverse=True)[:top_n]\n",
        "\n",
        "    print(f\"\\nQuery:\\n{query}\\n\")\n",
        "    print(f\"Top {top_n} matching documents:\")\n",
        "    for idx in top_n_indices:\n",
        "        print(f\"Score: {doc_scores[idx]:.2f} | Document: {corpus[idx]}\")\n",
        "\n",
        "# Example: Search manually\n",
        "search(\"how to invest money in india\", bm25, corpus, top_n=5)"
      ],
      "metadata": {
        "colab": {
          "base_uri": "https://localhost:8080/"
        },
        "id": "9GHIlV55k6jP",
        "outputId": "5fa86111-ce18-49e8-ae49-f9b37b1f256c"
      },
      "execution_count": 34,
      "outputs": [
        {
          "output_type": "stream",
          "name": "stdout",
          "text": [
            "\n",
            "Query:\n",
            "how to invest money in india\n",
            "\n",
            "Top 5 matching documents:\n",
            "Score: 8.20 | Document: What stocks are the best to invest in right now?\n",
            "Score: 7.54 | Document: What is the best way to invest in oil and natural gas?\n",
            "Score: 7.53 | Document: What is the step by step guide to invest in share market in india?\n",
            "Score: 6.45 | Document: What is best way to make money online?\n",
            "Score: 6.15 | Document: What are the easy ways to earn money online?\n"
          ]
        }
      ]
    },
    {
      "cell_type": "code",
      "source": [
        "search(\"your custom query here\", bm25, corpus, top_n=5)"
      ],
      "metadata": {
        "colab": {
          "base_uri": "https://localhost:8080/"
        },
        "id": "OdS41UOElFPZ",
        "outputId": "f75a4977-9cd1-4570-8b7e-b5be7c5dd5ab"
      },
      "execution_count": 35,
      "outputs": [
        {
          "output_type": "stream",
          "name": "stdout",
          "text": [
            "\n",
            "Query:\n",
            "your custom query here\n",
            "\n",
            "Top 5 matching documents:\n",
            "Score: 7.00 | Document: Who are the best custom kiosk manufacturers in India?\n",
            "Score: 5.25 | Document: What is your job and your salary? Are you satisfied with your current job?\n",
            "Score: 4.72 | Document: What's your bucket list?\n",
            "Score: 4.46 | Document: Do you regret your divorce?\n",
            "Score: 4.16 | Document: Could we use cherenkov atmosphere radiation (with gamma rays or similar) to image the surface of a planet from here with ground based telescopes?\n"
          ]
        }
      ]
    },
    {
      "cell_type": "markdown",
      "source": [
        "# **Evaluation**"
      ],
      "metadata": {
        "id": "VkYHnb_HmajH"
      }
    },
    {
      "cell_type": "code",
      "source": [
        "# Function to calculate Precision@k\n",
        "def precision_at_k(relevant_indices, retrieved_indices, k):\n",
        "    retrieved_k = retrieved_indices[:k]\n",
        "    hits = sum(1 for idx in retrieved_k if idx in relevant_indices)\n",
        "    return hits / k\n",
        "\n",
        "# Full evaluation over multiple queries\n",
        "def evaluate_bm25(queries, corpus, bm25_model, dataset, k=3):\n",
        "    precisions = []\n",
        "\n",
        "    for i, query in enumerate(queries):\n",
        "        # Prepare the query\n",
        "        tokenized_query = query.split()\n",
        "        doc_scores = bm25_model.get_scores(tokenized_query)\n",
        "        top_k_indices = sorted(range(len(doc_scores)), key=lambda idx: doc_scores[idx], reverse=True)[:k]\n",
        "\n",
        "        # Ground truth: the original question should match the corpus[i]\n",
        "        relevant_indices = [i]\n",
        "\n",
        "        # Precision@k for this query\n",
        "        precision = precision_at_k(relevant_indices, top_k_indices, k)\n",
        "        precisions.append(precision)\n",
        "\n",
        "    average_precision = sum(precisions) / len(precisions)\n",
        "    print(f\"\\nAverage Precision@{k}: {average_precision:.4f}\")\n",
        "    return average_precision\n",
        "\n",
        "# Run evaluation\n",
        "evaluate_bm25(queries, corpus, bm25, dataset, k=3)"
      ],
      "metadata": {
        "colab": {
          "base_uri": "https://localhost:8080/"
        },
        "id": "V5lWtM9ilPSv",
        "outputId": "dd70b4b9-842e-482e-f809-fd77ceed0dae"
      },
      "execution_count": 36,
      "outputs": [
        {
          "output_type": "stream",
          "name": "stdout",
          "text": [
            "\n",
            "Average Precision@3: 0.2373\n"
          ]
        },
        {
          "output_type": "execute_result",
          "data": {
            "text/plain": [
              "0.2373333333333357"
            ]
          },
          "metadata": {},
          "execution_count": 36
        }
      ]
    },
    {
      "cell_type": "markdown",
      "source": [
        "# **Function to retrieve and show results in a nice table**"
      ],
      "metadata": {
        "id": "xbN00AxHm2ko"
      }
    },
    {
      "cell_type": "code",
      "source": [
        "def search_pretty(query, bm25_model, corpus, top_n=5):\n",
        "    tokenized_query = query.split()\n",
        "    doc_scores = bm25_model.get_scores(tokenized_query)\n",
        "    top_n_indices = sorted(range(len(doc_scores)), key=lambda i: doc_scores[i], reverse=True)[:top_n]\n",
        "\n",
        "    results = []\n",
        "    for idx in top_n_indices:\n",
        "        results.append({\n",
        "            \"Score\": round(doc_scores[idx], 2),\n",
        "            \"Document\": corpus[idx]\n",
        "        })\n",
        "\n",
        "    df = pd.DataFrame(results)\n",
        "    print(f\"\\n Query:\\n{query}\\n\")\n",
        "    display(df)  # nice display in colab\n",
        "\n",
        "# Example usage\n",
        "search_pretty(\"how to invest in stock market\", bm25, corpus, top_n=5)"
      ],
      "metadata": {
        "colab": {
          "base_uri": "https://localhost:8080/",
          "height": 279
        },
        "id": "u_SILZtlmFed",
        "outputId": "c576030a-b6c1-4cdc-a8ac-a866032a594a"
      },
      "execution_count": 37,
      "outputs": [
        {
          "output_type": "stream",
          "name": "stdout",
          "text": [
            "\n",
            " Query:\n",
            "how to invest in stock market\n",
            "\n"
          ]
        },
        {
          "output_type": "display_data",
          "data": {
            "text/plain": [
              "   Score                                           Document\n",
              "0  13.29  What is the best source to learn stock market ...\n",
              "1  12.79  What is the step by step guide to invest in sh...\n",
              "2   8.20   What stocks are the best to invest in right now?\n",
              "3   7.54  What is the best way to invest in oil and natu...\n",
              "4   5.82  Does Fab currently offer new employees stock o..."
            ],
            "text/html": [
              "\n",
              "  <div id=\"df-e9ed5e3f-ba75-4bf4-8983-a177c327a9cd\" class=\"colab-df-container\">\n",
              "    <div>\n",
              "<style scoped>\n",
              "    .dataframe tbody tr th:only-of-type {\n",
              "        vertical-align: middle;\n",
              "    }\n",
              "\n",
              "    .dataframe tbody tr th {\n",
              "        vertical-align: top;\n",
              "    }\n",
              "\n",
              "    .dataframe thead th {\n",
              "        text-align: right;\n",
              "    }\n",
              "</style>\n",
              "<table border=\"1\" class=\"dataframe\">\n",
              "  <thead>\n",
              "    <tr style=\"text-align: right;\">\n",
              "      <th></th>\n",
              "      <th>Score</th>\n",
              "      <th>Document</th>\n",
              "    </tr>\n",
              "  </thead>\n",
              "  <tbody>\n",
              "    <tr>\n",
              "      <th>0</th>\n",
              "      <td>13.29</td>\n",
              "      <td>What is the best source to learn stock market ...</td>\n",
              "    </tr>\n",
              "    <tr>\n",
              "      <th>1</th>\n",
              "      <td>12.79</td>\n",
              "      <td>What is the step by step guide to invest in sh...</td>\n",
              "    </tr>\n",
              "    <tr>\n",
              "      <th>2</th>\n",
              "      <td>8.20</td>\n",
              "      <td>What stocks are the best to invest in right now?</td>\n",
              "    </tr>\n",
              "    <tr>\n",
              "      <th>3</th>\n",
              "      <td>7.54</td>\n",
              "      <td>What is the best way to invest in oil and natu...</td>\n",
              "    </tr>\n",
              "    <tr>\n",
              "      <th>4</th>\n",
              "      <td>5.82</td>\n",
              "      <td>Does Fab currently offer new employees stock o...</td>\n",
              "    </tr>\n",
              "  </tbody>\n",
              "</table>\n",
              "</div>\n",
              "    <div class=\"colab-df-buttons\">\n",
              "\n",
              "  <div class=\"colab-df-container\">\n",
              "    <button class=\"colab-df-convert\" onclick=\"convertToInteractive('df-e9ed5e3f-ba75-4bf4-8983-a177c327a9cd')\"\n",
              "            title=\"Convert this dataframe to an interactive table.\"\n",
              "            style=\"display:none;\">\n",
              "\n",
              "  <svg xmlns=\"http://www.w3.org/2000/svg\" height=\"24px\" viewBox=\"0 -960 960 960\">\n",
              "    <path d=\"M120-120v-720h720v720H120Zm60-500h600v-160H180v160Zm220 220h160v-160H400v160Zm0 220h160v-160H400v160ZM180-400h160v-160H180v160Zm440 0h160v-160H620v160ZM180-180h160v-160H180v160Zm440 0h160v-160H620v160Z\"/>\n",
              "  </svg>\n",
              "    </button>\n",
              "\n",
              "  <style>\n",
              "    .colab-df-container {\n",
              "      display:flex;\n",
              "      gap: 12px;\n",
              "    }\n",
              "\n",
              "    .colab-df-convert {\n",
              "      background-color: #E8F0FE;\n",
              "      border: none;\n",
              "      border-radius: 50%;\n",
              "      cursor: pointer;\n",
              "      display: none;\n",
              "      fill: #1967D2;\n",
              "      height: 32px;\n",
              "      padding: 0 0 0 0;\n",
              "      width: 32px;\n",
              "    }\n",
              "\n",
              "    .colab-df-convert:hover {\n",
              "      background-color: #E2EBFA;\n",
              "      box-shadow: 0px 1px 2px rgba(60, 64, 67, 0.3), 0px 1px 3px 1px rgba(60, 64, 67, 0.15);\n",
              "      fill: #174EA6;\n",
              "    }\n",
              "\n",
              "    .colab-df-buttons div {\n",
              "      margin-bottom: 4px;\n",
              "    }\n",
              "\n",
              "    [theme=dark] .colab-df-convert {\n",
              "      background-color: #3B4455;\n",
              "      fill: #D2E3FC;\n",
              "    }\n",
              "\n",
              "    [theme=dark] .colab-df-convert:hover {\n",
              "      background-color: #434B5C;\n",
              "      box-shadow: 0px 1px 3px 1px rgba(0, 0, 0, 0.15);\n",
              "      filter: drop-shadow(0px 1px 2px rgba(0, 0, 0, 0.3));\n",
              "      fill: #FFFFFF;\n",
              "    }\n",
              "  </style>\n",
              "\n",
              "    <script>\n",
              "      const buttonEl =\n",
              "        document.querySelector('#df-e9ed5e3f-ba75-4bf4-8983-a177c327a9cd button.colab-df-convert');\n",
              "      buttonEl.style.display =\n",
              "        google.colab.kernel.accessAllowed ? 'block' : 'none';\n",
              "\n",
              "      async function convertToInteractive(key) {\n",
              "        const element = document.querySelector('#df-e9ed5e3f-ba75-4bf4-8983-a177c327a9cd');\n",
              "        const dataTable =\n",
              "          await google.colab.kernel.invokeFunction('convertToInteractive',\n",
              "                                                    [key], {});\n",
              "        if (!dataTable) return;\n",
              "\n",
              "        const docLinkHtml = 'Like what you see? Visit the ' +\n",
              "          '<a target=\"_blank\" href=https://colab.research.google.com/notebooks/data_table.ipynb>data table notebook</a>'\n",
              "          + ' to learn more about interactive tables.';\n",
              "        element.innerHTML = '';\n",
              "        dataTable['output_type'] = 'display_data';\n",
              "        await google.colab.output.renderOutput(dataTable, element);\n",
              "        const docLink = document.createElement('div');\n",
              "        docLink.innerHTML = docLinkHtml;\n",
              "        element.appendChild(docLink);\n",
              "      }\n",
              "    </script>\n",
              "  </div>\n",
              "\n",
              "\n",
              "    <div id=\"df-06ded00f-5696-4b9e-a33b-cd024bb7f1cf\">\n",
              "      <button class=\"colab-df-quickchart\" onclick=\"quickchart('df-06ded00f-5696-4b9e-a33b-cd024bb7f1cf')\"\n",
              "                title=\"Suggest charts\"\n",
              "                style=\"display:none;\">\n",
              "\n",
              "<svg xmlns=\"http://www.w3.org/2000/svg\" height=\"24px\"viewBox=\"0 0 24 24\"\n",
              "     width=\"24px\">\n",
              "    <g>\n",
              "        <path d=\"M19 3H5c-1.1 0-2 .9-2 2v14c0 1.1.9 2 2 2h14c1.1 0 2-.9 2-2V5c0-1.1-.9-2-2-2zM9 17H7v-7h2v7zm4 0h-2V7h2v10zm4 0h-2v-4h2v4z\"/>\n",
              "    </g>\n",
              "</svg>\n",
              "      </button>\n",
              "\n",
              "<style>\n",
              "  .colab-df-quickchart {\n",
              "      --bg-color: #E8F0FE;\n",
              "      --fill-color: #1967D2;\n",
              "      --hover-bg-color: #E2EBFA;\n",
              "      --hover-fill-color: #174EA6;\n",
              "      --disabled-fill-color: #AAA;\n",
              "      --disabled-bg-color: #DDD;\n",
              "  }\n",
              "\n",
              "  [theme=dark] .colab-df-quickchart {\n",
              "      --bg-color: #3B4455;\n",
              "      --fill-color: #D2E3FC;\n",
              "      --hover-bg-color: #434B5C;\n",
              "      --hover-fill-color: #FFFFFF;\n",
              "      --disabled-bg-color: #3B4455;\n",
              "      --disabled-fill-color: #666;\n",
              "  }\n",
              "\n",
              "  .colab-df-quickchart {\n",
              "    background-color: var(--bg-color);\n",
              "    border: none;\n",
              "    border-radius: 50%;\n",
              "    cursor: pointer;\n",
              "    display: none;\n",
              "    fill: var(--fill-color);\n",
              "    height: 32px;\n",
              "    padding: 0;\n",
              "    width: 32px;\n",
              "  }\n",
              "\n",
              "  .colab-df-quickchart:hover {\n",
              "    background-color: var(--hover-bg-color);\n",
              "    box-shadow: 0 1px 2px rgba(60, 64, 67, 0.3), 0 1px 3px 1px rgba(60, 64, 67, 0.15);\n",
              "    fill: var(--button-hover-fill-color);\n",
              "  }\n",
              "\n",
              "  .colab-df-quickchart-complete:disabled,\n",
              "  .colab-df-quickchart-complete:disabled:hover {\n",
              "    background-color: var(--disabled-bg-color);\n",
              "    fill: var(--disabled-fill-color);\n",
              "    box-shadow: none;\n",
              "  }\n",
              "\n",
              "  .colab-df-spinner {\n",
              "    border: 2px solid var(--fill-color);\n",
              "    border-color: transparent;\n",
              "    border-bottom-color: var(--fill-color);\n",
              "    animation:\n",
              "      spin 1s steps(1) infinite;\n",
              "  }\n",
              "\n",
              "  @keyframes spin {\n",
              "    0% {\n",
              "      border-color: transparent;\n",
              "      border-bottom-color: var(--fill-color);\n",
              "      border-left-color: var(--fill-color);\n",
              "    }\n",
              "    20% {\n",
              "      border-color: transparent;\n",
              "      border-left-color: var(--fill-color);\n",
              "      border-top-color: var(--fill-color);\n",
              "    }\n",
              "    30% {\n",
              "      border-color: transparent;\n",
              "      border-left-color: var(--fill-color);\n",
              "      border-top-color: var(--fill-color);\n",
              "      border-right-color: var(--fill-color);\n",
              "    }\n",
              "    40% {\n",
              "      border-color: transparent;\n",
              "      border-right-color: var(--fill-color);\n",
              "      border-top-color: var(--fill-color);\n",
              "    }\n",
              "    60% {\n",
              "      border-color: transparent;\n",
              "      border-right-color: var(--fill-color);\n",
              "    }\n",
              "    80% {\n",
              "      border-color: transparent;\n",
              "      border-right-color: var(--fill-color);\n",
              "      border-bottom-color: var(--fill-color);\n",
              "    }\n",
              "    90% {\n",
              "      border-color: transparent;\n",
              "      border-bottom-color: var(--fill-color);\n",
              "    }\n",
              "  }\n",
              "</style>\n",
              "\n",
              "      <script>\n",
              "        async function quickchart(key) {\n",
              "          const quickchartButtonEl =\n",
              "            document.querySelector('#' + key + ' button');\n",
              "          quickchartButtonEl.disabled = true;  // To prevent multiple clicks.\n",
              "          quickchartButtonEl.classList.add('colab-df-spinner');\n",
              "          try {\n",
              "            const charts = await google.colab.kernel.invokeFunction(\n",
              "                'suggestCharts', [key], {});\n",
              "          } catch (error) {\n",
              "            console.error('Error during call to suggestCharts:', error);\n",
              "          }\n",
              "          quickchartButtonEl.classList.remove('colab-df-spinner');\n",
              "          quickchartButtonEl.classList.add('colab-df-quickchart-complete');\n",
              "        }\n",
              "        (() => {\n",
              "          let quickchartButtonEl =\n",
              "            document.querySelector('#df-06ded00f-5696-4b9e-a33b-cd024bb7f1cf button');\n",
              "          quickchartButtonEl.style.display =\n",
              "            google.colab.kernel.accessAllowed ? 'block' : 'none';\n",
              "        })();\n",
              "      </script>\n",
              "    </div>\n",
              "\n",
              "    </div>\n",
              "  </div>\n"
            ],
            "application/vnd.google.colaboratory.intrinsic+json": {
              "type": "dataframe",
              "summary": "{\n  \"name\": \"search_pretty(\\\"how to invest in stock market\\\", bm25, corpus, top_n=5)\",\n  \"rows\": 5,\n  \"fields\": [\n    {\n      \"column\": \"Score\",\n      \"properties\": {\n        \"dtype\": \"number\",\n        \"std\": 3.326344840812509,\n        \"min\": 5.82,\n        \"max\": 13.29,\n        \"num_unique_values\": 5,\n        \"samples\": [\n          12.79,\n          5.82,\n          8.2\n        ],\n        \"semantic_type\": \"\",\n        \"description\": \"\"\n      }\n    },\n    {\n      \"column\": \"Document\",\n      \"properties\": {\n        \"dtype\": \"string\",\n        \"num_unique_values\": 5,\n        \"samples\": [\n          \"What is the step by step guide to invest in share market in india?\",\n          \"Does Fab currently offer new employees stock options or RSUs?\",\n          \"What stocks are the best to invest in right now?\"\n        ],\n        \"semantic_type\": \"\",\n        \"description\": \"\"\n      }\n    }\n  ]\n}"
            }
          },
          "metadata": {}
        }
      ]
    }
  ]
}